{
 "cells": [
  {
   "cell_type": "markdown",
   "metadata": {},
   "source": [
    "<a href='https://www.valassis.com/'><img src='images/ValassisDigital_WebLogo.jpg' width=\"500\" height=\"400\"/></a>"
   ]
  },
  {
   "cell_type": "markdown",
   "metadata": {},
   "source": [
    "# <center> Valassis Digital Interview Assessment <center/>"
   ]
  },
  {
   "cell_type": "markdown",
   "metadata": {},
   "source": [
    "### Table of Contents"
   ]
  },
  {
   "cell_type": "markdown",
   "metadata": {},
   "source": [
    "1. <a href=\"#1.-Problem-Description\">Problem Description</a>\n",
    "2. <a href=\"#2.-Data-Preparation-and-EDA\">Data Preparation and EDA</a>\n",
    "3. <a href=\"#3.-A/B-Testing-and-Hypothesis-Statements\">A/B Testing and Hypothesis Statements</a>\n",
    "4. <a href=\"#4.-Retargeting\">Retargeting</a>\n",
    "5. <a href=\"#4.-Conclusion\">Conclusion</a>"
   ]
  },
  {
   "cell_type": "markdown",
   "metadata": {},
   "source": [
    "-------------"
   ]
  },
  {
   "cell_type": "markdown",
   "metadata": {},
   "source": [
    "### 1. Problem Description\n",
    "`Valassis Digital` has run a digital advertising campaign for one of our clients, targeting mobile users in the Southeast. The goal of the campaign was to `drive conversions` -- users clicking through the ad and accepting our client's offer. To execute this campaign, we built an audience of target users based on historical information about the likelihood to convert.\n",
    "\n",
    "Our campaigns are executed on real-time bidding (RTB) exchanges. Web pages or mobile apps submit bid requests to potential advertisers on these exchanges. If Valassis Digital sees a bid request for a user we want to target on a web page or mobile app we want to serve on, we will submit a bid for that advertising placement. If we submit the highest (or only) bid, we win the placement and serve an ad. Given that we have won and served the ad, a user then has the opportunity to convert.\n",
    "\n",
    "We'd like you to take a look at the campaign's results to answer two primary questions:\n",
    "\n",
    "<div class=\"alert alert-info\" >\n",
    "\n",
    "1.\tWe ran two creatives (distinct ad designs) during the campaign: a baseline creative in line with our client's previous campaigns, and a new creative designed to increase conversions by more prominently displaying the offer to the user.  To do this, we assigned some users to a \"test\" group that received the new ad during the campaign.  Did the new creative increase conversions?\n",
    "2.\tWe are equally likely to bid on any user at any time during a campaign.  Other advertisers have found success by \"retargeting\" users -- increasing the likelihood of a bid for users that have previously landed on a page or actually converted in the past (e.g. redeeming a digital coupon). Would retargeting have improved performance for this campaign?\n",
    "    \n",
    "</div>\n"
   ]
  },
  {
   "cell_type": "markdown",
   "metadata": {},
   "source": [
    "-------------"
   ]
  },
  {
   "cell_type": "code",
   "execution_count": 1,
   "metadata": {},
   "outputs": [],
   "source": [
    "# import the necessary libraries\n",
    "import pandas as pd\n",
    "import numpy as np\n",
    "import matplotlib.pyplot as plt\n",
    "import seaborn as sns\n",
    "sns.set_style('white')\n",
    "import re\n",
    "import json\n",
    "import statsmodels.api as sm\n",
    "from scipy import stats\n",
    "from src import plot\n",
    "import warnings\n",
    "warnings.filterwarnings('ignore')\n",
    "\n",
    "%matplotlib inline"
   ]
  },
  {
   "cell_type": "markdown",
   "metadata": {},
   "source": [
    "### 2. Data Preparation and EDA"
   ]
  },
  {
   "cell_type": "code",
   "execution_count": 2,
   "metadata": {},
   "outputs": [],
   "source": [
    "# read data into a dataframe\n",
    "users = pd.read_csv('data/user_attributes.csv')\n",
    "bid_request = pd.read_csv('data/bid_requests.csv')"
   ]
  },
  {
   "cell_type": "code",
   "execution_count": 3,
   "metadata": {},
   "outputs": [
    {
     "data": {
      "text/html": [
       "<div>\n",
       "<style scoped>\n",
       "    .dataframe tbody tr th:only-of-type {\n",
       "        vertical-align: middle;\n",
       "    }\n",
       "\n",
       "    .dataframe tbody tr th {\n",
       "        vertical-align: top;\n",
       "    }\n",
       "\n",
       "    .dataframe thead th {\n",
       "        text-align: right;\n",
       "    }\n",
       "</style>\n",
       "<table border=\"1\" class=\"dataframe\">\n",
       "  <thead>\n",
       "    <tr style=\"text-align: right;\">\n",
       "      <th></th>\n",
       "      <th>user_id</th>\n",
       "      <th>attributes</th>\n",
       "    </tr>\n",
       "  </thead>\n",
       "  <tbody>\n",
       "    <tr>\n",
       "      <th>0</th>\n",
       "      <td>00003e3b9e5336685200ae85d21b4f5e</td>\n",
       "      <td>{\"age\": 33, \"gender\": \"F\", \"location\": \"FL\", \"...</td>\n",
       "    </tr>\n",
       "    <tr>\n",
       "      <th>1</th>\n",
       "      <td>000053b1e684c9e7ea73727b2238ce18</td>\n",
       "      <td>{\"age\": 26, \"gender\": \"M\", \"location\": \"AL\", \"...</td>\n",
       "    </tr>\n",
       "    <tr>\n",
       "      <th>2</th>\n",
       "      <td>00029153d12ae1c9abe59c17ff2e0895</td>\n",
       "      <td>{\"age\": 29, \"gender\": \"F\", \"location\": \"AR\", \"...</td>\n",
       "    </tr>\n",
       "    <tr>\n",
       "      <th>3</th>\n",
       "      <td>0002ac0d783338cfeab0b2bdbd872cda</td>\n",
       "      <td>{\"age\": 29, \"gender\": \"M\", \"location\": \"SC\", \"...</td>\n",
       "    </tr>\n",
       "    <tr>\n",
       "      <th>4</th>\n",
       "      <td>0004d0b59e19461ff126e3a08a814c33</td>\n",
       "      <td>{\"age\": 27, \"gender\": \"F\", \"location\": \"AR\", \"...</td>\n",
       "    </tr>\n",
       "  </tbody>\n",
       "</table>\n",
       "</div>"
      ],
      "text/plain": [
       "                            user_id  \\\n",
       "0  00003e3b9e5336685200ae85d21b4f5e   \n",
       "1  000053b1e684c9e7ea73727b2238ce18   \n",
       "2  00029153d12ae1c9abe59c17ff2e0895   \n",
       "3  0002ac0d783338cfeab0b2bdbd872cda   \n",
       "4  0004d0b59e19461ff126e3a08a814c33   \n",
       "\n",
       "                                          attributes  \n",
       "0  {\"age\": 33, \"gender\": \"F\", \"location\": \"FL\", \"...  \n",
       "1  {\"age\": 26, \"gender\": \"M\", \"location\": \"AL\", \"...  \n",
       "2  {\"age\": 29, \"gender\": \"F\", \"location\": \"AR\", \"...  \n",
       "3  {\"age\": 29, \"gender\": \"M\", \"location\": \"SC\", \"...  \n",
       "4  {\"age\": 27, \"gender\": \"F\", \"location\": \"AR\", \"...  "
      ]
     },
     "execution_count": 3,
     "metadata": {},
     "output_type": "execute_result"
    }
   ],
   "source": [
    "# check the head of the users data\n",
    "users.head()"
   ]
  },
  {
   "cell_type": "code",
   "execution_count": 4,
   "metadata": {},
   "outputs": [
    {
     "data": {
      "text/html": [
       "<div>\n",
       "<style scoped>\n",
       "    .dataframe tbody tr th:only-of-type {\n",
       "        vertical-align: middle;\n",
       "    }\n",
       "\n",
       "    .dataframe tbody tr th {\n",
       "        vertical-align: top;\n",
       "    }\n",
       "\n",
       "    .dataframe thead th {\n",
       "        text-align: right;\n",
       "    }\n",
       "</style>\n",
       "<table border=\"1\" class=\"dataframe\">\n",
       "  <thead>\n",
       "    <tr style=\"text-align: right;\">\n",
       "      <th></th>\n",
       "      <th>timestamp</th>\n",
       "      <th>user_id</th>\n",
       "      <th>bid</th>\n",
       "      <th>win</th>\n",
       "      <th>conversion</th>\n",
       "    </tr>\n",
       "  </thead>\n",
       "  <tbody>\n",
       "    <tr>\n",
       "      <th>0</th>\n",
       "      <td>2017-01-01 00:00:01</td>\n",
       "      <td>be7485be5b6eb3690efcbc9e95e8f15a</td>\n",
       "      <td>0</td>\n",
       "      <td>0</td>\n",
       "      <td>0</td>\n",
       "    </tr>\n",
       "    <tr>\n",
       "      <th>1</th>\n",
       "      <td>2017-01-01 00:00:02</td>\n",
       "      <td>26c5dca2512a4c7fe8810bd04191b1b3</td>\n",
       "      <td>0</td>\n",
       "      <td>0</td>\n",
       "      <td>0</td>\n",
       "    </tr>\n",
       "    <tr>\n",
       "      <th>2</th>\n",
       "      <td>2017-01-01 00:00:05</td>\n",
       "      <td>2121376a323507c01c5e92c39ae8ccd4</td>\n",
       "      <td>0</td>\n",
       "      <td>0</td>\n",
       "      <td>0</td>\n",
       "    </tr>\n",
       "    <tr>\n",
       "      <th>3</th>\n",
       "      <td>2017-01-01 00:00:12</td>\n",
       "      <td>fa6a0925d911185338b0acc93c66dc92</td>\n",
       "      <td>0</td>\n",
       "      <td>0</td>\n",
       "      <td>0</td>\n",
       "    </tr>\n",
       "    <tr>\n",
       "      <th>4</th>\n",
       "      <td>2017-01-01 00:00:13</td>\n",
       "      <td>4299f209da83da82b711f1d631cc607b</td>\n",
       "      <td>1</td>\n",
       "      <td>0</td>\n",
       "      <td>0</td>\n",
       "    </tr>\n",
       "  </tbody>\n",
       "</table>\n",
       "</div>"
      ],
      "text/plain": [
       "             timestamp                           user_id  bid  win  conversion\n",
       "0  2017-01-01 00:00:01  be7485be5b6eb3690efcbc9e95e8f15a    0    0           0\n",
       "1  2017-01-01 00:00:02  26c5dca2512a4c7fe8810bd04191b1b3    0    0           0\n",
       "2  2017-01-01 00:00:05  2121376a323507c01c5e92c39ae8ccd4    0    0           0\n",
       "3  2017-01-01 00:00:12  fa6a0925d911185338b0acc93c66dc92    0    0           0\n",
       "4  2017-01-01 00:00:13  4299f209da83da82b711f1d631cc607b    1    0           0"
      ]
     },
     "execution_count": 4,
     "metadata": {},
     "output_type": "execute_result"
    }
   ],
   "source": [
    "# check the head of the bid_request data\n",
    "bid_request.head()"
   ]
  },
  {
   "cell_type": "code",
   "execution_count": 5,
   "metadata": {},
   "outputs": [
    {
     "data": {
      "text/plain": [
       "user_id       object\n",
       "attributes    object\n",
       "dtype: object"
      ]
     },
     "execution_count": 5,
     "metadata": {},
     "output_type": "execute_result"
    }
   ],
   "source": [
    "# check for the data types of the user data\n",
    "users.dtypes"
   ]
  },
  {
   "cell_type": "code",
   "execution_count": 6,
   "metadata": {},
   "outputs": [
    {
     "data": {
      "text/plain": [
       "timestamp     object\n",
       "user_id       object\n",
       "bid            int64\n",
       "win            int64\n",
       "conversion     int64\n",
       "dtype: object"
      ]
     },
     "execution_count": 6,
     "metadata": {},
     "output_type": "execute_result"
    }
   ],
   "source": [
    "# check for the data types of the bid_request data\n",
    "bid_request.dtypes"
   ]
  },
  {
   "cell_type": "code",
   "execution_count": 7,
   "metadata": {},
   "outputs": [
    {
     "data": {
      "text/plain": [
       "(100000, 2)"
      ]
     },
     "execution_count": 7,
     "metadata": {},
     "output_type": "execute_result"
    }
   ],
   "source": [
    "# shape of the data to see the number of features and rows - users\n",
    "users.shape"
   ]
  },
  {
   "cell_type": "code",
   "execution_count": 8,
   "metadata": {},
   "outputs": [
    {
     "data": {
      "text/plain": [
       "(600000, 5)"
      ]
     },
     "execution_count": 8,
     "metadata": {},
     "output_type": "execute_result"
    }
   ],
   "source": [
    "# shape of the data to see the number of features and rows - bid_request\n",
    "bid_request.shape"
   ]
  },
  {
   "cell_type": "markdown",
   "metadata": {},
   "source": [
    "`json_normalize` does not work here because values in dictionary are object data type. Hence, we extract the columns of age, gender, location, and test out of the attributes column using the string accessor method of pandas with the help of regular expression. `json.loads` also work here for the same task."
   ]
  },
  {
   "cell_type": "code",
   "execution_count": 9,
   "metadata": {},
   "outputs": [],
   "source": [
    "# users['age'] = users['attributes'].str.extract((r'(\\d+)'))\n",
    "# users['gender'] = users['attributes'].str.extract(r'(M|F)')\n",
    "# users['location'] = users['attributes'].str.extract(r'([A-Z]{2})')\n",
    "# users['test'] = users['attributes'].str.extract(r'(0|1){1}')\n",
    "# users.drop('attributes', axis=1, inplace=True)"
   ]
  },
  {
   "cell_type": "code",
   "execution_count": 10,
   "metadata": {},
   "outputs": [],
   "source": [
    "# define a function to convert and extract the relevant features out of the attributes column\n",
    "def convert_dict(x):\n",
    "    return json.loads(x)"
   ]
  },
  {
   "cell_type": "code",
   "execution_count": 11,
   "metadata": {},
   "outputs": [],
   "source": [
    "# apply convert_dict function above to the attributes feature of the users' data\n",
    "users.attributes = users.attributes.apply(convert_dict)"
   ]
  },
  {
   "cell_type": "code",
   "execution_count": 12,
   "metadata": {},
   "outputs": [],
   "source": [
    "users[['age','gender','location','test']] = pd.DataFrame(users.attributes.tolist())[['age','gender','location','test']]\n",
    "users = users.drop('attributes',axis=1)"
   ]
  },
  {
   "cell_type": "code",
   "execution_count": 13,
   "metadata": {},
   "outputs": [
    {
     "data": {
      "text/html": [
       "<div>\n",
       "<style scoped>\n",
       "    .dataframe tbody tr th:only-of-type {\n",
       "        vertical-align: middle;\n",
       "    }\n",
       "\n",
       "    .dataframe tbody tr th {\n",
       "        vertical-align: top;\n",
       "    }\n",
       "\n",
       "    .dataframe thead th {\n",
       "        text-align: right;\n",
       "    }\n",
       "</style>\n",
       "<table border=\"1\" class=\"dataframe\">\n",
       "  <thead>\n",
       "    <tr style=\"text-align: right;\">\n",
       "      <th></th>\n",
       "      <th>user_id</th>\n",
       "      <th>age</th>\n",
       "      <th>gender</th>\n",
       "      <th>location</th>\n",
       "      <th>test</th>\n",
       "    </tr>\n",
       "  </thead>\n",
       "  <tbody>\n",
       "    <tr>\n",
       "      <th>0</th>\n",
       "      <td>00003e3b9e5336685200ae85d21b4f5e</td>\n",
       "      <td>33</td>\n",
       "      <td>F</td>\n",
       "      <td>FL</td>\n",
       "      <td>1</td>\n",
       "    </tr>\n",
       "    <tr>\n",
       "      <th>1</th>\n",
       "      <td>000053b1e684c9e7ea73727b2238ce18</td>\n",
       "      <td>26</td>\n",
       "      <td>M</td>\n",
       "      <td>AL</td>\n",
       "      <td>1</td>\n",
       "    </tr>\n",
       "    <tr>\n",
       "      <th>2</th>\n",
       "      <td>00029153d12ae1c9abe59c17ff2e0895</td>\n",
       "      <td>29</td>\n",
       "      <td>F</td>\n",
       "      <td>AR</td>\n",
       "      <td>1</td>\n",
       "    </tr>\n",
       "    <tr>\n",
       "      <th>3</th>\n",
       "      <td>0002ac0d783338cfeab0b2bdbd872cda</td>\n",
       "      <td>29</td>\n",
       "      <td>M</td>\n",
       "      <td>SC</td>\n",
       "      <td>0</td>\n",
       "    </tr>\n",
       "    <tr>\n",
       "      <th>4</th>\n",
       "      <td>0004d0b59e19461ff126e3a08a814c33</td>\n",
       "      <td>27</td>\n",
       "      <td>F</td>\n",
       "      <td>AR</td>\n",
       "      <td>1</td>\n",
       "    </tr>\n",
       "  </tbody>\n",
       "</table>\n",
       "</div>"
      ],
      "text/plain": [
       "                            user_id  age gender location  test\n",
       "0  00003e3b9e5336685200ae85d21b4f5e   33      F       FL     1\n",
       "1  000053b1e684c9e7ea73727b2238ce18   26      M       AL     1\n",
       "2  00029153d12ae1c9abe59c17ff2e0895   29      F       AR     1\n",
       "3  0002ac0d783338cfeab0b2bdbd872cda   29      M       SC     0\n",
       "4  0004d0b59e19461ff126e3a08a814c33   27      F       AR     1"
      ]
     },
     "execution_count": 13,
     "metadata": {},
     "output_type": "execute_result"
    }
   ],
   "source": [
    "# confirm that age, gender, location, and test features are now separate\n",
    "users.head()"
   ]
  },
  {
   "cell_type": "markdown",
   "metadata": {},
   "source": [
    "Here, we need to convert the timestamp feature's data type from object to datetime, because we may need it to sort out the data later."
   ]
  },
  {
   "cell_type": "code",
   "execution_count": 14,
   "metadata": {},
   "outputs": [],
   "source": [
    "# convert the timestamp feature's data type to datetime object \n",
    "bid_request['timestamp'] = pd.to_datetime(bid_request['timestamp'])"
   ]
  },
  {
   "cell_type": "code",
   "execution_count": 15,
   "metadata": {},
   "outputs": [
    {
     "data": {
      "text/html": [
       "<div>\n",
       "<style scoped>\n",
       "    .dataframe tbody tr th:only-of-type {\n",
       "        vertical-align: middle;\n",
       "    }\n",
       "\n",
       "    .dataframe tbody tr th {\n",
       "        vertical-align: top;\n",
       "    }\n",
       "\n",
       "    .dataframe thead th {\n",
       "        text-align: right;\n",
       "    }\n",
       "</style>\n",
       "<table border=\"1\" class=\"dataframe\">\n",
       "  <thead>\n",
       "    <tr style=\"text-align: right;\">\n",
       "      <th></th>\n",
       "      <th>timestamp</th>\n",
       "      <th>user_id</th>\n",
       "      <th>bid</th>\n",
       "      <th>win</th>\n",
       "      <th>conversion</th>\n",
       "    </tr>\n",
       "  </thead>\n",
       "  <tbody>\n",
       "    <tr>\n",
       "      <th>0</th>\n",
       "      <td>2017-01-01 00:00:01</td>\n",
       "      <td>be7485be5b6eb3690efcbc9e95e8f15a</td>\n",
       "      <td>0</td>\n",
       "      <td>0</td>\n",
       "      <td>0</td>\n",
       "    </tr>\n",
       "    <tr>\n",
       "      <th>1</th>\n",
       "      <td>2017-01-01 00:00:02</td>\n",
       "      <td>26c5dca2512a4c7fe8810bd04191b1b3</td>\n",
       "      <td>0</td>\n",
       "      <td>0</td>\n",
       "      <td>0</td>\n",
       "    </tr>\n",
       "    <tr>\n",
       "      <th>2</th>\n",
       "      <td>2017-01-01 00:00:05</td>\n",
       "      <td>2121376a323507c01c5e92c39ae8ccd4</td>\n",
       "      <td>0</td>\n",
       "      <td>0</td>\n",
       "      <td>0</td>\n",
       "    </tr>\n",
       "    <tr>\n",
       "      <th>3</th>\n",
       "      <td>2017-01-01 00:00:12</td>\n",
       "      <td>fa6a0925d911185338b0acc93c66dc92</td>\n",
       "      <td>0</td>\n",
       "      <td>0</td>\n",
       "      <td>0</td>\n",
       "    </tr>\n",
       "    <tr>\n",
       "      <th>4</th>\n",
       "      <td>2017-01-01 00:00:13</td>\n",
       "      <td>4299f209da83da82b711f1d631cc607b</td>\n",
       "      <td>1</td>\n",
       "      <td>0</td>\n",
       "      <td>0</td>\n",
       "    </tr>\n",
       "  </tbody>\n",
       "</table>\n",
       "</div>"
      ],
      "text/plain": [
       "            timestamp                           user_id  bid  win  conversion\n",
       "0 2017-01-01 00:00:01  be7485be5b6eb3690efcbc9e95e8f15a    0    0           0\n",
       "1 2017-01-01 00:00:02  26c5dca2512a4c7fe8810bd04191b1b3    0    0           0\n",
       "2 2017-01-01 00:00:05  2121376a323507c01c5e92c39ae8ccd4    0    0           0\n",
       "3 2017-01-01 00:00:12  fa6a0925d911185338b0acc93c66dc92    0    0           0\n",
       "4 2017-01-01 00:00:13  4299f209da83da82b711f1d631cc607b    1    0           0"
      ]
     },
     "execution_count": 15,
     "metadata": {},
     "output_type": "execute_result"
    }
   ],
   "source": [
    "# again, check the head of the bid_request data to confirm the changes \n",
    "bid_request.head()"
   ]
  },
  {
   "cell_type": "markdown",
   "metadata": {},
   "source": [
    "Here, I wanted to see the number of unique users in the users and bid_request datasets. As can be seen, all the users in the users dataset are unique, while the bid_request dataset only has 63,137 unique users."
   ]
  },
  {
   "cell_type": "code",
   "execution_count": 16,
   "metadata": {},
   "outputs": [
    {
     "name": "stdout",
     "output_type": "stream",
     "text": [
      "Number of unique users in users data: 100000\n",
      "Number of unique users in bid_request data: 63137\n"
     ]
    }
   ],
   "source": [
    "print('Number of unique users in users data:', users['user_id'].nunique())\n",
    "print('Number of unique users in bid_request data:', bid_request['user_id'].nunique())"
   ]
  },
  {
   "cell_type": "markdown",
   "metadata": {},
   "source": [
    "The goal of this task is to find out if the change in ad design actually works or not to increase the conversion rate. To do so, we have a baseline group or control group where no changes made to the ad design and a test group where changes were made to the ad design. To have a meaningful results of this test, we need to check for the number of users assigned in each of control and test groups. As the following output shows, the number of users in the control group is `43,916` while it is `56,084` in the test group. The users were almost equally splitted into the control and test groups."
   ]
  },
  {
   "cell_type": "code",
   "execution_count": 17,
   "metadata": {},
   "outputs": [
    {
     "data": {
      "text/plain": [
       "1    56084\n",
       "0    43916\n",
       "Name: test, dtype: int64"
      ]
     },
     "execution_count": 17,
     "metadata": {},
     "output_type": "execute_result"
    }
   ],
   "source": [
    "users['test'].value_counts()"
   ]
  },
  {
   "cell_type": "markdown",
   "metadata": {},
   "source": [
    "Another sanity check is to look at the distribution of users in each group regarding the number of males and females, average, minimum, and maximum age, and count of the users in each location. Based on the output below, we can say that the control and test groups show similar characteristics which is good to have for better comparisons."
   ]
  },
  {
   "cell_type": "code",
   "execution_count": 18,
   "metadata": {},
   "outputs": [
    {
     "data": {
      "text/html": [
       "<div>\n",
       "<style scoped>\n",
       "    .dataframe tbody tr th:only-of-type {\n",
       "        vertical-align: middle;\n",
       "    }\n",
       "\n",
       "    .dataframe tbody tr th {\n",
       "        vertical-align: top;\n",
       "    }\n",
       "\n",
       "    .dataframe thead th {\n",
       "        text-align: right;\n",
       "    }\n",
       "</style>\n",
       "<table border=\"1\" class=\"dataframe\">\n",
       "  <thead>\n",
       "    <tr style=\"text-align: right;\">\n",
       "      <th></th>\n",
       "      <th></th>\n",
       "      <th></th>\n",
       "      <th>mean</th>\n",
       "      <th>count</th>\n",
       "      <th>min</th>\n",
       "      <th>max</th>\n",
       "    </tr>\n",
       "    <tr>\n",
       "      <th>test</th>\n",
       "      <th>gender</th>\n",
       "      <th>location</th>\n",
       "      <th></th>\n",
       "      <th></th>\n",
       "      <th></th>\n",
       "      <th></th>\n",
       "    </tr>\n",
       "  </thead>\n",
       "  <tbody>\n",
       "    <tr>\n",
       "      <th rowspan=\"22\" valign=\"top\">0</th>\n",
       "      <th rowspan=\"11\" valign=\"top\">F</th>\n",
       "      <th>AL</th>\n",
       "      <td>25.692799</td>\n",
       "      <td>1097</td>\n",
       "      <td>18</td>\n",
       "      <td>33</td>\n",
       "    </tr>\n",
       "    <tr>\n",
       "      <th>AR</th>\n",
       "      <td>25.410357</td>\n",
       "      <td>2549</td>\n",
       "      <td>18</td>\n",
       "      <td>33</td>\n",
       "    </tr>\n",
       "    <tr>\n",
       "      <th>FL</th>\n",
       "      <td>25.455870</td>\n",
       "      <td>2470</td>\n",
       "      <td>18</td>\n",
       "      <td>33</td>\n",
       "    </tr>\n",
       "    <tr>\n",
       "      <th>GA</th>\n",
       "      <td>25.614724</td>\n",
       "      <td>2445</td>\n",
       "      <td>18</td>\n",
       "      <td>33</td>\n",
       "    </tr>\n",
       "    <tr>\n",
       "      <th>KY</th>\n",
       "      <td>25.355388</td>\n",
       "      <td>2524</td>\n",
       "      <td>18</td>\n",
       "      <td>33</td>\n",
       "    </tr>\n",
       "    <tr>\n",
       "      <th>LA</th>\n",
       "      <td>25.408147</td>\n",
       "      <td>2455</td>\n",
       "      <td>18</td>\n",
       "      <td>33</td>\n",
       "    </tr>\n",
       "    <tr>\n",
       "      <th>MS</th>\n",
       "      <td>25.643872</td>\n",
       "      <td>1126</td>\n",
       "      <td>18</td>\n",
       "      <td>33</td>\n",
       "    </tr>\n",
       "    <tr>\n",
       "      <th>NC</th>\n",
       "      <td>25.471959</td>\n",
       "      <td>1159</td>\n",
       "      <td>18</td>\n",
       "      <td>33</td>\n",
       "    </tr>\n",
       "    <tr>\n",
       "      <th>SC</th>\n",
       "      <td>25.524736</td>\n",
       "      <td>2466</td>\n",
       "      <td>18</td>\n",
       "      <td>33</td>\n",
       "    </tr>\n",
       "    <tr>\n",
       "      <th>TN</th>\n",
       "      <td>25.598361</td>\n",
       "      <td>1098</td>\n",
       "      <td>18</td>\n",
       "      <td>33</td>\n",
       "    </tr>\n",
       "    <tr>\n",
       "      <th>VA</th>\n",
       "      <td>25.363561</td>\n",
       "      <td>2426</td>\n",
       "      <td>18</td>\n",
       "      <td>33</td>\n",
       "    </tr>\n",
       "    <tr>\n",
       "      <th rowspan=\"11\" valign=\"top\">M</th>\n",
       "      <th>AL</th>\n",
       "      <td>25.575809</td>\n",
       "      <td>1174</td>\n",
       "      <td>18</td>\n",
       "      <td>33</td>\n",
       "    </tr>\n",
       "    <tr>\n",
       "      <th>AR</th>\n",
       "      <td>25.531840</td>\n",
       "      <td>2544</td>\n",
       "      <td>18</td>\n",
       "      <td>33</td>\n",
       "    </tr>\n",
       "    <tr>\n",
       "      <th>FL</th>\n",
       "      <td>25.465846</td>\n",
       "      <td>2518</td>\n",
       "      <td>18</td>\n",
       "      <td>33</td>\n",
       "    </tr>\n",
       "    <tr>\n",
       "      <th>GA</th>\n",
       "      <td>25.411458</td>\n",
       "      <td>2496</td>\n",
       "      <td>18</td>\n",
       "      <td>33</td>\n",
       "    </tr>\n",
       "    <tr>\n",
       "      <th>KY</th>\n",
       "      <td>25.472853</td>\n",
       "      <td>2468</td>\n",
       "      <td>18</td>\n",
       "      <td>33</td>\n",
       "    </tr>\n",
       "    <tr>\n",
       "      <th>LA</th>\n",
       "      <td>25.552535</td>\n",
       "      <td>2465</td>\n",
       "      <td>18</td>\n",
       "      <td>33</td>\n",
       "    </tr>\n",
       "    <tr>\n",
       "      <th>MS</th>\n",
       "      <td>25.339858</td>\n",
       "      <td>1124</td>\n",
       "      <td>18</td>\n",
       "      <td>33</td>\n",
       "    </tr>\n",
       "    <tr>\n",
       "      <th>NC</th>\n",
       "      <td>25.897758</td>\n",
       "      <td>1115</td>\n",
       "      <td>18</td>\n",
       "      <td>33</td>\n",
       "    </tr>\n",
       "    <tr>\n",
       "      <th>SC</th>\n",
       "      <td>25.463633</td>\n",
       "      <td>2571</td>\n",
       "      <td>18</td>\n",
       "      <td>33</td>\n",
       "    </tr>\n",
       "    <tr>\n",
       "      <th>TN</th>\n",
       "      <td>25.472811</td>\n",
       "      <td>1085</td>\n",
       "      <td>18</td>\n",
       "      <td>33</td>\n",
       "    </tr>\n",
       "    <tr>\n",
       "      <th>VA</th>\n",
       "      <td>25.457300</td>\n",
       "      <td>2541</td>\n",
       "      <td>18</td>\n",
       "      <td>33</td>\n",
       "    </tr>\n",
       "    <tr>\n",
       "      <th rowspan=\"22\" valign=\"top\">1</th>\n",
       "      <th rowspan=\"11\" valign=\"top\">F</th>\n",
       "      <th>AL</th>\n",
       "      <td>25.435756</td>\n",
       "      <td>3440</td>\n",
       "      <td>18</td>\n",
       "      <td>33</td>\n",
       "    </tr>\n",
       "    <tr>\n",
       "      <th>AR</th>\n",
       "      <td>25.401659</td>\n",
       "      <td>2049</td>\n",
       "      <td>18</td>\n",
       "      <td>33</td>\n",
       "    </tr>\n",
       "    <tr>\n",
       "      <th>FL</th>\n",
       "      <td>25.303204</td>\n",
       "      <td>2091</td>\n",
       "      <td>18</td>\n",
       "      <td>33</td>\n",
       "    </tr>\n",
       "    <tr>\n",
       "      <th>GA</th>\n",
       "      <td>25.464147</td>\n",
       "      <td>2064</td>\n",
       "      <td>18</td>\n",
       "      <td>33</td>\n",
       "    </tr>\n",
       "    <tr>\n",
       "      <th>KY</th>\n",
       "      <td>25.438670</td>\n",
       "      <td>2136</td>\n",
       "      <td>18</td>\n",
       "      <td>33</td>\n",
       "    </tr>\n",
       "    <tr>\n",
       "      <th>LA</th>\n",
       "      <td>25.548817</td>\n",
       "      <td>2028</td>\n",
       "      <td>18</td>\n",
       "      <td>33</td>\n",
       "    </tr>\n",
       "    <tr>\n",
       "      <th>MS</th>\n",
       "      <td>25.529672</td>\n",
       "      <td>3387</td>\n",
       "      <td>18</td>\n",
       "      <td>33</td>\n",
       "    </tr>\n",
       "    <tr>\n",
       "      <th>NC</th>\n",
       "      <td>25.512760</td>\n",
       "      <td>3409</td>\n",
       "      <td>18</td>\n",
       "      <td>33</td>\n",
       "    </tr>\n",
       "    <tr>\n",
       "      <th>SC</th>\n",
       "      <td>25.404809</td>\n",
       "      <td>2038</td>\n",
       "      <td>18</td>\n",
       "      <td>33</td>\n",
       "    </tr>\n",
       "    <tr>\n",
       "      <th>TN</th>\n",
       "      <td>25.647522</td>\n",
       "      <td>3430</td>\n",
       "      <td>18</td>\n",
       "      <td>33</td>\n",
       "    </tr>\n",
       "    <tr>\n",
       "      <th>VA</th>\n",
       "      <td>25.551081</td>\n",
       "      <td>2036</td>\n",
       "      <td>18</td>\n",
       "      <td>33</td>\n",
       "    </tr>\n",
       "    <tr>\n",
       "      <th rowspan=\"11\" valign=\"top\">M</th>\n",
       "      <th>AL</th>\n",
       "      <td>25.508777</td>\n",
       "      <td>3418</td>\n",
       "      <td>18</td>\n",
       "      <td>33</td>\n",
       "    </tr>\n",
       "    <tr>\n",
       "      <th>AR</th>\n",
       "      <td>25.471122</td>\n",
       "      <td>2095</td>\n",
       "      <td>18</td>\n",
       "      <td>33</td>\n",
       "    </tr>\n",
       "    <tr>\n",
       "      <th>FL</th>\n",
       "      <td>25.535135</td>\n",
       "      <td>2035</td>\n",
       "      <td>18</td>\n",
       "      <td>33</td>\n",
       "    </tr>\n",
       "    <tr>\n",
       "      <th>GA</th>\n",
       "      <td>25.505085</td>\n",
       "      <td>2065</td>\n",
       "      <td>18</td>\n",
       "      <td>33</td>\n",
       "    </tr>\n",
       "    <tr>\n",
       "      <th>KY</th>\n",
       "      <td>25.376514</td>\n",
       "      <td>2146</td>\n",
       "      <td>18</td>\n",
       "      <td>33</td>\n",
       "    </tr>\n",
       "    <tr>\n",
       "      <th>LA</th>\n",
       "      <td>25.496735</td>\n",
       "      <td>1991</td>\n",
       "      <td>18</td>\n",
       "      <td>33</td>\n",
       "    </tr>\n",
       "    <tr>\n",
       "      <th>MS</th>\n",
       "      <td>25.722533</td>\n",
       "      <td>3395</td>\n",
       "      <td>18</td>\n",
       "      <td>33</td>\n",
       "    </tr>\n",
       "    <tr>\n",
       "      <th>NC</th>\n",
       "      <td>25.434421</td>\n",
       "      <td>3370</td>\n",
       "      <td>18</td>\n",
       "      <td>33</td>\n",
       "    </tr>\n",
       "    <tr>\n",
       "      <th>SC</th>\n",
       "      <td>25.382150</td>\n",
       "      <td>2028</td>\n",
       "      <td>18</td>\n",
       "      <td>33</td>\n",
       "    </tr>\n",
       "    <tr>\n",
       "      <th>TN</th>\n",
       "      <td>25.413854</td>\n",
       "      <td>3378</td>\n",
       "      <td>18</td>\n",
       "      <td>33</td>\n",
       "    </tr>\n",
       "    <tr>\n",
       "      <th>VA</th>\n",
       "      <td>25.621411</td>\n",
       "      <td>2055</td>\n",
       "      <td>18</td>\n",
       "      <td>33</td>\n",
       "    </tr>\n",
       "  </tbody>\n",
       "</table>\n",
       "</div>"
      ],
      "text/plain": [
       "                           mean  count  min  max\n",
       "test gender location                            \n",
       "0    F      AL        25.692799   1097   18   33\n",
       "            AR        25.410357   2549   18   33\n",
       "            FL        25.455870   2470   18   33\n",
       "            GA        25.614724   2445   18   33\n",
       "            KY        25.355388   2524   18   33\n",
       "            LA        25.408147   2455   18   33\n",
       "            MS        25.643872   1126   18   33\n",
       "            NC        25.471959   1159   18   33\n",
       "            SC        25.524736   2466   18   33\n",
       "            TN        25.598361   1098   18   33\n",
       "            VA        25.363561   2426   18   33\n",
       "     M      AL        25.575809   1174   18   33\n",
       "            AR        25.531840   2544   18   33\n",
       "            FL        25.465846   2518   18   33\n",
       "            GA        25.411458   2496   18   33\n",
       "            KY        25.472853   2468   18   33\n",
       "            LA        25.552535   2465   18   33\n",
       "            MS        25.339858   1124   18   33\n",
       "            NC        25.897758   1115   18   33\n",
       "            SC        25.463633   2571   18   33\n",
       "            TN        25.472811   1085   18   33\n",
       "            VA        25.457300   2541   18   33\n",
       "1    F      AL        25.435756   3440   18   33\n",
       "            AR        25.401659   2049   18   33\n",
       "            FL        25.303204   2091   18   33\n",
       "            GA        25.464147   2064   18   33\n",
       "            KY        25.438670   2136   18   33\n",
       "            LA        25.548817   2028   18   33\n",
       "            MS        25.529672   3387   18   33\n",
       "            NC        25.512760   3409   18   33\n",
       "            SC        25.404809   2038   18   33\n",
       "            TN        25.647522   3430   18   33\n",
       "            VA        25.551081   2036   18   33\n",
       "     M      AL        25.508777   3418   18   33\n",
       "            AR        25.471122   2095   18   33\n",
       "            FL        25.535135   2035   18   33\n",
       "            GA        25.505085   2065   18   33\n",
       "            KY        25.376514   2146   18   33\n",
       "            LA        25.496735   1991   18   33\n",
       "            MS        25.722533   3395   18   33\n",
       "            NC        25.434421   3370   18   33\n",
       "            SC        25.382150   2028   18   33\n",
       "            TN        25.413854   3378   18   33\n",
       "            VA        25.621411   2055   18   33"
      ]
     },
     "execution_count": 18,
     "metadata": {},
     "output_type": "execute_result"
    }
   ],
   "source": [
    "users.groupby(['test', 'gender', 'location'])['age'].agg(['mean', 'count', 'min', 'max'])"
   ]
  },
  {
   "cell_type": "markdown",
   "metadata": {},
   "source": [
    "Now, we need to merge these two datasets on user_id using the following code."
   ]
  },
  {
   "cell_type": "code",
   "execution_count": 19,
   "metadata": {},
   "outputs": [],
   "source": [
    "# merge the users and bid_request datasets on user_id\n",
    "df = users.merge(bid_request, on=['user_id'])"
   ]
  },
  {
   "cell_type": "code",
   "execution_count": 20,
   "metadata": {},
   "outputs": [
    {
     "data": {
      "text/html": [
       "<div>\n",
       "<style scoped>\n",
       "    .dataframe tbody tr th:only-of-type {\n",
       "        vertical-align: middle;\n",
       "    }\n",
       "\n",
       "    .dataframe tbody tr th {\n",
       "        vertical-align: top;\n",
       "    }\n",
       "\n",
       "    .dataframe thead th {\n",
       "        text-align: right;\n",
       "    }\n",
       "</style>\n",
       "<table border=\"1\" class=\"dataframe\">\n",
       "  <thead>\n",
       "    <tr style=\"text-align: right;\">\n",
       "      <th></th>\n",
       "      <th>user_id</th>\n",
       "      <th>age</th>\n",
       "      <th>gender</th>\n",
       "      <th>location</th>\n",
       "      <th>test</th>\n",
       "      <th>timestamp</th>\n",
       "      <th>bid</th>\n",
       "      <th>win</th>\n",
       "      <th>conversion</th>\n",
       "    </tr>\n",
       "  </thead>\n",
       "  <tbody>\n",
       "    <tr>\n",
       "      <th>0</th>\n",
       "      <td>00003e3b9e5336685200ae85d21b4f5e</td>\n",
       "      <td>33</td>\n",
       "      <td>F</td>\n",
       "      <td>FL</td>\n",
       "      <td>1</td>\n",
       "      <td>2017-01-01 13:43:34</td>\n",
       "      <td>1</td>\n",
       "      <td>0</td>\n",
       "      <td>0</td>\n",
       "    </tr>\n",
       "    <tr>\n",
       "      <th>1</th>\n",
       "      <td>00003e3b9e5336685200ae85d21b4f5e</td>\n",
       "      <td>33</td>\n",
       "      <td>F</td>\n",
       "      <td>FL</td>\n",
       "      <td>1</td>\n",
       "      <td>2017-01-04 03:59:18</td>\n",
       "      <td>0</td>\n",
       "      <td>0</td>\n",
       "      <td>0</td>\n",
       "    </tr>\n",
       "    <tr>\n",
       "      <th>2</th>\n",
       "      <td>00003e3b9e5336685200ae85d21b4f5e</td>\n",
       "      <td>33</td>\n",
       "      <td>F</td>\n",
       "      <td>FL</td>\n",
       "      <td>1</td>\n",
       "      <td>2017-01-04 17:41:50</td>\n",
       "      <td>1</td>\n",
       "      <td>1</td>\n",
       "      <td>0</td>\n",
       "    </tr>\n",
       "    <tr>\n",
       "      <th>3</th>\n",
       "      <td>00003e3b9e5336685200ae85d21b4f5e</td>\n",
       "      <td>33</td>\n",
       "      <td>F</td>\n",
       "      <td>FL</td>\n",
       "      <td>1</td>\n",
       "      <td>2017-01-07 04:02:42</td>\n",
       "      <td>1</td>\n",
       "      <td>1</td>\n",
       "      <td>0</td>\n",
       "    </tr>\n",
       "    <tr>\n",
       "      <th>4</th>\n",
       "      <td>00003e3b9e5336685200ae85d21b4f5e</td>\n",
       "      <td>33</td>\n",
       "      <td>F</td>\n",
       "      <td>FL</td>\n",
       "      <td>1</td>\n",
       "      <td>2017-01-08 09:05:01</td>\n",
       "      <td>1</td>\n",
       "      <td>0</td>\n",
       "      <td>0</td>\n",
       "    </tr>\n",
       "  </tbody>\n",
       "</table>\n",
       "</div>"
      ],
      "text/plain": [
       "                            user_id  age gender location  test  \\\n",
       "0  00003e3b9e5336685200ae85d21b4f5e   33      F       FL     1   \n",
       "1  00003e3b9e5336685200ae85d21b4f5e   33      F       FL     1   \n",
       "2  00003e3b9e5336685200ae85d21b4f5e   33      F       FL     1   \n",
       "3  00003e3b9e5336685200ae85d21b4f5e   33      F       FL     1   \n",
       "4  00003e3b9e5336685200ae85d21b4f5e   33      F       FL     1   \n",
       "\n",
       "            timestamp  bid  win  conversion  \n",
       "0 2017-01-01 13:43:34    1    0           0  \n",
       "1 2017-01-04 03:59:18    0    0           0  \n",
       "2 2017-01-04 17:41:50    1    1           0  \n",
       "3 2017-01-07 04:02:42    1    1           0  \n",
       "4 2017-01-08 09:05:01    1    0           0  "
      ]
     },
     "execution_count": 20,
     "metadata": {},
     "output_type": "execute_result"
    }
   ],
   "source": [
    "# check for the head of the merged data: df\n",
    "df.head()"
   ]
  },
  {
   "cell_type": "code",
   "execution_count": 21,
   "metadata": {},
   "outputs": [
    {
     "data": {
      "text/plain": [
       "(600000, 9)"
      ]
     },
     "execution_count": 21,
     "metadata": {},
     "output_type": "execute_result"
    }
   ],
   "source": [
    "df.shape"
   ]
  },
  {
   "cell_type": "markdown",
   "metadata": {},
   "source": [
    "The merged dataset now have 9 features and 600,000 rows/observations."
   ]
  },
  {
   "cell_type": "markdown",
   "metadata": {},
   "source": [
    "To have a better insight into the merged data, let's look at the following two outputs. They show the number of bid request for two separate users. As can be seen, while 10 bid requests were made for the first user, 32 bid requests were made for the second user below. Another important distinction between these two particular users is that the first user was never converted out of the 4 bids won, while the second user was converted 5 times out of 17 bids won. These two instances also help us retargeting concept."
   ]
  },
  {
   "cell_type": "code",
   "execution_count": 22,
   "metadata": {},
   "outputs": [
    {
     "data": {
      "text/html": [
       "<div>\n",
       "<style scoped>\n",
       "    .dataframe tbody tr th:only-of-type {\n",
       "        vertical-align: middle;\n",
       "    }\n",
       "\n",
       "    .dataframe tbody tr th {\n",
       "        vertical-align: top;\n",
       "    }\n",
       "\n",
       "    .dataframe thead th {\n",
       "        text-align: right;\n",
       "    }\n",
       "</style>\n",
       "<table border=\"1\" class=\"dataframe\">\n",
       "  <thead>\n",
       "    <tr style=\"text-align: right;\">\n",
       "      <th></th>\n",
       "      <th>user_id</th>\n",
       "      <th>age</th>\n",
       "      <th>gender</th>\n",
       "      <th>location</th>\n",
       "      <th>test</th>\n",
       "      <th>timestamp</th>\n",
       "      <th>bid</th>\n",
       "      <th>win</th>\n",
       "      <th>conversion</th>\n",
       "    </tr>\n",
       "  </thead>\n",
       "  <tbody>\n",
       "    <tr>\n",
       "      <th>0</th>\n",
       "      <td>00003e3b9e5336685200ae85d21b4f5e</td>\n",
       "      <td>33</td>\n",
       "      <td>F</td>\n",
       "      <td>FL</td>\n",
       "      <td>1</td>\n",
       "      <td>2017-01-01 13:43:34</td>\n",
       "      <td>1</td>\n",
       "      <td>0</td>\n",
       "      <td>0</td>\n",
       "    </tr>\n",
       "    <tr>\n",
       "      <th>1</th>\n",
       "      <td>00003e3b9e5336685200ae85d21b4f5e</td>\n",
       "      <td>33</td>\n",
       "      <td>F</td>\n",
       "      <td>FL</td>\n",
       "      <td>1</td>\n",
       "      <td>2017-01-04 03:59:18</td>\n",
       "      <td>0</td>\n",
       "      <td>0</td>\n",
       "      <td>0</td>\n",
       "    </tr>\n",
       "    <tr>\n",
       "      <th>2</th>\n",
       "      <td>00003e3b9e5336685200ae85d21b4f5e</td>\n",
       "      <td>33</td>\n",
       "      <td>F</td>\n",
       "      <td>FL</td>\n",
       "      <td>1</td>\n",
       "      <td>2017-01-04 17:41:50</td>\n",
       "      <td>1</td>\n",
       "      <td>1</td>\n",
       "      <td>0</td>\n",
       "    </tr>\n",
       "    <tr>\n",
       "      <th>3</th>\n",
       "      <td>00003e3b9e5336685200ae85d21b4f5e</td>\n",
       "      <td>33</td>\n",
       "      <td>F</td>\n",
       "      <td>FL</td>\n",
       "      <td>1</td>\n",
       "      <td>2017-01-07 04:02:42</td>\n",
       "      <td>1</td>\n",
       "      <td>1</td>\n",
       "      <td>0</td>\n",
       "    </tr>\n",
       "    <tr>\n",
       "      <th>4</th>\n",
       "      <td>00003e3b9e5336685200ae85d21b4f5e</td>\n",
       "      <td>33</td>\n",
       "      <td>F</td>\n",
       "      <td>FL</td>\n",
       "      <td>1</td>\n",
       "      <td>2017-01-08 09:05:01</td>\n",
       "      <td>1</td>\n",
       "      <td>0</td>\n",
       "      <td>0</td>\n",
       "    </tr>\n",
       "    <tr>\n",
       "      <th>5</th>\n",
       "      <td>00003e3b9e5336685200ae85d21b4f5e</td>\n",
       "      <td>33</td>\n",
       "      <td>F</td>\n",
       "      <td>FL</td>\n",
       "      <td>1</td>\n",
       "      <td>2017-01-10 23:02:32</td>\n",
       "      <td>1</td>\n",
       "      <td>0</td>\n",
       "      <td>0</td>\n",
       "    </tr>\n",
       "    <tr>\n",
       "      <th>6</th>\n",
       "      <td>00003e3b9e5336685200ae85d21b4f5e</td>\n",
       "      <td>33</td>\n",
       "      <td>F</td>\n",
       "      <td>FL</td>\n",
       "      <td>1</td>\n",
       "      <td>2017-01-13 06:21:40</td>\n",
       "      <td>0</td>\n",
       "      <td>0</td>\n",
       "      <td>0</td>\n",
       "    </tr>\n",
       "    <tr>\n",
       "      <th>7</th>\n",
       "      <td>00003e3b9e5336685200ae85d21b4f5e</td>\n",
       "      <td>33</td>\n",
       "      <td>F</td>\n",
       "      <td>FL</td>\n",
       "      <td>1</td>\n",
       "      <td>2017-01-13 22:40:11</td>\n",
       "      <td>0</td>\n",
       "      <td>0</td>\n",
       "      <td>0</td>\n",
       "    </tr>\n",
       "    <tr>\n",
       "      <th>8</th>\n",
       "      <td>00003e3b9e5336685200ae85d21b4f5e</td>\n",
       "      <td>33</td>\n",
       "      <td>F</td>\n",
       "      <td>FL</td>\n",
       "      <td>1</td>\n",
       "      <td>2017-01-15 09:46:48</td>\n",
       "      <td>1</td>\n",
       "      <td>1</td>\n",
       "      <td>0</td>\n",
       "    </tr>\n",
       "    <tr>\n",
       "      <th>9</th>\n",
       "      <td>00003e3b9e5336685200ae85d21b4f5e</td>\n",
       "      <td>33</td>\n",
       "      <td>F</td>\n",
       "      <td>FL</td>\n",
       "      <td>1</td>\n",
       "      <td>2017-01-17 02:53:55</td>\n",
       "      <td>1</td>\n",
       "      <td>1</td>\n",
       "      <td>0</td>\n",
       "    </tr>\n",
       "  </tbody>\n",
       "</table>\n",
       "</div>"
      ],
      "text/plain": [
       "                            user_id  age gender location  test  \\\n",
       "0  00003e3b9e5336685200ae85d21b4f5e   33      F       FL     1   \n",
       "1  00003e3b9e5336685200ae85d21b4f5e   33      F       FL     1   \n",
       "2  00003e3b9e5336685200ae85d21b4f5e   33      F       FL     1   \n",
       "3  00003e3b9e5336685200ae85d21b4f5e   33      F       FL     1   \n",
       "4  00003e3b9e5336685200ae85d21b4f5e   33      F       FL     1   \n",
       "5  00003e3b9e5336685200ae85d21b4f5e   33      F       FL     1   \n",
       "6  00003e3b9e5336685200ae85d21b4f5e   33      F       FL     1   \n",
       "7  00003e3b9e5336685200ae85d21b4f5e   33      F       FL     1   \n",
       "8  00003e3b9e5336685200ae85d21b4f5e   33      F       FL     1   \n",
       "9  00003e3b9e5336685200ae85d21b4f5e   33      F       FL     1   \n",
       "\n",
       "            timestamp  bid  win  conversion  \n",
       "0 2017-01-01 13:43:34    1    0           0  \n",
       "1 2017-01-04 03:59:18    0    0           0  \n",
       "2 2017-01-04 17:41:50    1    1           0  \n",
       "3 2017-01-07 04:02:42    1    1           0  \n",
       "4 2017-01-08 09:05:01    1    0           0  \n",
       "5 2017-01-10 23:02:32    1    0           0  \n",
       "6 2017-01-13 06:21:40    0    0           0  \n",
       "7 2017-01-13 22:40:11    0    0           0  \n",
       "8 2017-01-15 09:46:48    1    1           0  \n",
       "9 2017-01-17 02:53:55    1    1           0  "
      ]
     },
     "execution_count": 22,
     "metadata": {},
     "output_type": "execute_result"
    }
   ],
   "source": [
    "df[df.user_id == '00003e3b9e5336685200ae85d21b4f5e'].sort_values('timestamp')"
   ]
  },
  {
   "cell_type": "code",
   "execution_count": 23,
   "metadata": {},
   "outputs": [
    {
     "data": {
      "text/html": [
       "<div>\n",
       "<style scoped>\n",
       "    .dataframe tbody tr th:only-of-type {\n",
       "        vertical-align: middle;\n",
       "    }\n",
       "\n",
       "    .dataframe tbody tr th {\n",
       "        vertical-align: top;\n",
       "    }\n",
       "\n",
       "    .dataframe thead th {\n",
       "        text-align: right;\n",
       "    }\n",
       "</style>\n",
       "<table border=\"1\" class=\"dataframe\">\n",
       "  <thead>\n",
       "    <tr style=\"text-align: right;\">\n",
       "      <th></th>\n",
       "      <th>user_id</th>\n",
       "      <th>age</th>\n",
       "      <th>gender</th>\n",
       "      <th>location</th>\n",
       "      <th>test</th>\n",
       "      <th>timestamp</th>\n",
       "      <th>bid</th>\n",
       "      <th>win</th>\n",
       "      <th>conversion</th>\n",
       "    </tr>\n",
       "  </thead>\n",
       "  <tbody>\n",
       "    <tr>\n",
       "      <th>544921</th>\n",
       "      <td>e879bd196b9b3e4db974b8716c6f896e</td>\n",
       "      <td>26</td>\n",
       "      <td>F</td>\n",
       "      <td>VA</td>\n",
       "      <td>0</td>\n",
       "      <td>2017-01-01 06:42:33</td>\n",
       "      <td>1</td>\n",
       "      <td>1</td>\n",
       "      <td>0</td>\n",
       "    </tr>\n",
       "    <tr>\n",
       "      <th>544922</th>\n",
       "      <td>e879bd196b9b3e4db974b8716c6f896e</td>\n",
       "      <td>26</td>\n",
       "      <td>F</td>\n",
       "      <td>VA</td>\n",
       "      <td>0</td>\n",
       "      <td>2017-01-01 18:34:53</td>\n",
       "      <td>1</td>\n",
       "      <td>1</td>\n",
       "      <td>0</td>\n",
       "    </tr>\n",
       "    <tr>\n",
       "      <th>544923</th>\n",
       "      <td>e879bd196b9b3e4db974b8716c6f896e</td>\n",
       "      <td>26</td>\n",
       "      <td>F</td>\n",
       "      <td>VA</td>\n",
       "      <td>0</td>\n",
       "      <td>2017-01-02 04:26:34</td>\n",
       "      <td>1</td>\n",
       "      <td>0</td>\n",
       "      <td>0</td>\n",
       "    </tr>\n",
       "    <tr>\n",
       "      <th>544924</th>\n",
       "      <td>e879bd196b9b3e4db974b8716c6f896e</td>\n",
       "      <td>26</td>\n",
       "      <td>F</td>\n",
       "      <td>VA</td>\n",
       "      <td>0</td>\n",
       "      <td>2017-01-02 11:01:28</td>\n",
       "      <td>0</td>\n",
       "      <td>0</td>\n",
       "      <td>0</td>\n",
       "    </tr>\n",
       "    <tr>\n",
       "      <th>544925</th>\n",
       "      <td>e879bd196b9b3e4db974b8716c6f896e</td>\n",
       "      <td>26</td>\n",
       "      <td>F</td>\n",
       "      <td>VA</td>\n",
       "      <td>0</td>\n",
       "      <td>2017-01-05 00:36:39</td>\n",
       "      <td>0</td>\n",
       "      <td>0</td>\n",
       "      <td>0</td>\n",
       "    </tr>\n",
       "    <tr>\n",
       "      <th>544926</th>\n",
       "      <td>e879bd196b9b3e4db974b8716c6f896e</td>\n",
       "      <td>26</td>\n",
       "      <td>F</td>\n",
       "      <td>VA</td>\n",
       "      <td>0</td>\n",
       "      <td>2017-01-05 03:04:36</td>\n",
       "      <td>1</td>\n",
       "      <td>1</td>\n",
       "      <td>0</td>\n",
       "    </tr>\n",
       "    <tr>\n",
       "      <th>544927</th>\n",
       "      <td>e879bd196b9b3e4db974b8716c6f896e</td>\n",
       "      <td>26</td>\n",
       "      <td>F</td>\n",
       "      <td>VA</td>\n",
       "      <td>0</td>\n",
       "      <td>2017-01-05 12:09:34</td>\n",
       "      <td>1</td>\n",
       "      <td>1</td>\n",
       "      <td>0</td>\n",
       "    </tr>\n",
       "    <tr>\n",
       "      <th>544928</th>\n",
       "      <td>e879bd196b9b3e4db974b8716c6f896e</td>\n",
       "      <td>26</td>\n",
       "      <td>F</td>\n",
       "      <td>VA</td>\n",
       "      <td>0</td>\n",
       "      <td>2017-01-07 04:46:22</td>\n",
       "      <td>1</td>\n",
       "      <td>0</td>\n",
       "      <td>0</td>\n",
       "    </tr>\n",
       "    <tr>\n",
       "      <th>544929</th>\n",
       "      <td>e879bd196b9b3e4db974b8716c6f896e</td>\n",
       "      <td>26</td>\n",
       "      <td>F</td>\n",
       "      <td>VA</td>\n",
       "      <td>0</td>\n",
       "      <td>2017-01-07 11:15:04</td>\n",
       "      <td>1</td>\n",
       "      <td>1</td>\n",
       "      <td>0</td>\n",
       "    </tr>\n",
       "    <tr>\n",
       "      <th>544930</th>\n",
       "      <td>e879bd196b9b3e4db974b8716c6f896e</td>\n",
       "      <td>26</td>\n",
       "      <td>F</td>\n",
       "      <td>VA</td>\n",
       "      <td>0</td>\n",
       "      <td>2017-01-07 15:55:34</td>\n",
       "      <td>1</td>\n",
       "      <td>1</td>\n",
       "      <td>0</td>\n",
       "    </tr>\n",
       "    <tr>\n",
       "      <th>544931</th>\n",
       "      <td>e879bd196b9b3e4db974b8716c6f896e</td>\n",
       "      <td>26</td>\n",
       "      <td>F</td>\n",
       "      <td>VA</td>\n",
       "      <td>0</td>\n",
       "      <td>2017-01-07 22:43:29</td>\n",
       "      <td>1</td>\n",
       "      <td>1</td>\n",
       "      <td>1</td>\n",
       "    </tr>\n",
       "    <tr>\n",
       "      <th>544932</th>\n",
       "      <td>e879bd196b9b3e4db974b8716c6f896e</td>\n",
       "      <td>26</td>\n",
       "      <td>F</td>\n",
       "      <td>VA</td>\n",
       "      <td>0</td>\n",
       "      <td>2017-01-09 07:17:35</td>\n",
       "      <td>1</td>\n",
       "      <td>0</td>\n",
       "      <td>0</td>\n",
       "    </tr>\n",
       "    <tr>\n",
       "      <th>544933</th>\n",
       "      <td>e879bd196b9b3e4db974b8716c6f896e</td>\n",
       "      <td>26</td>\n",
       "      <td>F</td>\n",
       "      <td>VA</td>\n",
       "      <td>0</td>\n",
       "      <td>2017-01-09 07:27:54</td>\n",
       "      <td>1</td>\n",
       "      <td>0</td>\n",
       "      <td>0</td>\n",
       "    </tr>\n",
       "    <tr>\n",
       "      <th>544934</th>\n",
       "      <td>e879bd196b9b3e4db974b8716c6f896e</td>\n",
       "      <td>26</td>\n",
       "      <td>F</td>\n",
       "      <td>VA</td>\n",
       "      <td>0</td>\n",
       "      <td>2017-01-10 08:35:35</td>\n",
       "      <td>0</td>\n",
       "      <td>0</td>\n",
       "      <td>0</td>\n",
       "    </tr>\n",
       "    <tr>\n",
       "      <th>544935</th>\n",
       "      <td>e879bd196b9b3e4db974b8716c6f896e</td>\n",
       "      <td>26</td>\n",
       "      <td>F</td>\n",
       "      <td>VA</td>\n",
       "      <td>0</td>\n",
       "      <td>2017-01-10 20:09:34</td>\n",
       "      <td>0</td>\n",
       "      <td>0</td>\n",
       "      <td>0</td>\n",
       "    </tr>\n",
       "    <tr>\n",
       "      <th>544936</th>\n",
       "      <td>e879bd196b9b3e4db974b8716c6f896e</td>\n",
       "      <td>26</td>\n",
       "      <td>F</td>\n",
       "      <td>VA</td>\n",
       "      <td>0</td>\n",
       "      <td>2017-01-10 21:51:35</td>\n",
       "      <td>1</td>\n",
       "      <td>1</td>\n",
       "      <td>0</td>\n",
       "    </tr>\n",
       "    <tr>\n",
       "      <th>544937</th>\n",
       "      <td>e879bd196b9b3e4db974b8716c6f896e</td>\n",
       "      <td>26</td>\n",
       "      <td>F</td>\n",
       "      <td>VA</td>\n",
       "      <td>0</td>\n",
       "      <td>2017-01-11 13:48:01</td>\n",
       "      <td>1</td>\n",
       "      <td>1</td>\n",
       "      <td>0</td>\n",
       "    </tr>\n",
       "    <tr>\n",
       "      <th>544938</th>\n",
       "      <td>e879bd196b9b3e4db974b8716c6f896e</td>\n",
       "      <td>26</td>\n",
       "      <td>F</td>\n",
       "      <td>VA</td>\n",
       "      <td>0</td>\n",
       "      <td>2017-01-11 21:49:03</td>\n",
       "      <td>0</td>\n",
       "      <td>0</td>\n",
       "      <td>0</td>\n",
       "    </tr>\n",
       "    <tr>\n",
       "      <th>544939</th>\n",
       "      <td>e879bd196b9b3e4db974b8716c6f896e</td>\n",
       "      <td>26</td>\n",
       "      <td>F</td>\n",
       "      <td>VA</td>\n",
       "      <td>0</td>\n",
       "      <td>2017-01-13 08:24:24</td>\n",
       "      <td>1</td>\n",
       "      <td>1</td>\n",
       "      <td>1</td>\n",
       "    </tr>\n",
       "    <tr>\n",
       "      <th>544940</th>\n",
       "      <td>e879bd196b9b3e4db974b8716c6f896e</td>\n",
       "      <td>26</td>\n",
       "      <td>F</td>\n",
       "      <td>VA</td>\n",
       "      <td>0</td>\n",
       "      <td>2017-01-13 15:07:07</td>\n",
       "      <td>1</td>\n",
       "      <td>1</td>\n",
       "      <td>1</td>\n",
       "    </tr>\n",
       "    <tr>\n",
       "      <th>544941</th>\n",
       "      <td>e879bd196b9b3e4db974b8716c6f896e</td>\n",
       "      <td>26</td>\n",
       "      <td>F</td>\n",
       "      <td>VA</td>\n",
       "      <td>0</td>\n",
       "      <td>2017-01-15 01:24:58</td>\n",
       "      <td>1</td>\n",
       "      <td>1</td>\n",
       "      <td>1</td>\n",
       "    </tr>\n",
       "    <tr>\n",
       "      <th>544942</th>\n",
       "      <td>e879bd196b9b3e4db974b8716c6f896e</td>\n",
       "      <td>26</td>\n",
       "      <td>F</td>\n",
       "      <td>VA</td>\n",
       "      <td>0</td>\n",
       "      <td>2017-01-15 15:49:17</td>\n",
       "      <td>0</td>\n",
       "      <td>0</td>\n",
       "      <td>0</td>\n",
       "    </tr>\n",
       "    <tr>\n",
       "      <th>544943</th>\n",
       "      <td>e879bd196b9b3e4db974b8716c6f896e</td>\n",
       "      <td>26</td>\n",
       "      <td>F</td>\n",
       "      <td>VA</td>\n",
       "      <td>0</td>\n",
       "      <td>2017-01-15 17:28:21</td>\n",
       "      <td>0</td>\n",
       "      <td>0</td>\n",
       "      <td>0</td>\n",
       "    </tr>\n",
       "    <tr>\n",
       "      <th>544944</th>\n",
       "      <td>e879bd196b9b3e4db974b8716c6f896e</td>\n",
       "      <td>26</td>\n",
       "      <td>F</td>\n",
       "      <td>VA</td>\n",
       "      <td>0</td>\n",
       "      <td>2017-01-16 01:44:38</td>\n",
       "      <td>1</td>\n",
       "      <td>1</td>\n",
       "      <td>0</td>\n",
       "    </tr>\n",
       "    <tr>\n",
       "      <th>544945</th>\n",
       "      <td>e879bd196b9b3e4db974b8716c6f896e</td>\n",
       "      <td>26</td>\n",
       "      <td>F</td>\n",
       "      <td>VA</td>\n",
       "      <td>0</td>\n",
       "      <td>2017-01-16 07:45:43</td>\n",
       "      <td>1</td>\n",
       "      <td>0</td>\n",
       "      <td>0</td>\n",
       "    </tr>\n",
       "    <tr>\n",
       "      <th>544946</th>\n",
       "      <td>e879bd196b9b3e4db974b8716c6f896e</td>\n",
       "      <td>26</td>\n",
       "      <td>F</td>\n",
       "      <td>VA</td>\n",
       "      <td>0</td>\n",
       "      <td>2017-01-17 15:22:06</td>\n",
       "      <td>1</td>\n",
       "      <td>1</td>\n",
       "      <td>0</td>\n",
       "    </tr>\n",
       "    <tr>\n",
       "      <th>544947</th>\n",
       "      <td>e879bd196b9b3e4db974b8716c6f896e</td>\n",
       "      <td>26</td>\n",
       "      <td>F</td>\n",
       "      <td>VA</td>\n",
       "      <td>0</td>\n",
       "      <td>2017-01-19 07:11:14</td>\n",
       "      <td>1</td>\n",
       "      <td>1</td>\n",
       "      <td>0</td>\n",
       "    </tr>\n",
       "    <tr>\n",
       "      <th>544948</th>\n",
       "      <td>e879bd196b9b3e4db974b8716c6f896e</td>\n",
       "      <td>26</td>\n",
       "      <td>F</td>\n",
       "      <td>VA</td>\n",
       "      <td>0</td>\n",
       "      <td>2017-01-19 14:26:37</td>\n",
       "      <td>0</td>\n",
       "      <td>0</td>\n",
       "      <td>0</td>\n",
       "    </tr>\n",
       "    <tr>\n",
       "      <th>544949</th>\n",
       "      <td>e879bd196b9b3e4db974b8716c6f896e</td>\n",
       "      <td>26</td>\n",
       "      <td>F</td>\n",
       "      <td>VA</td>\n",
       "      <td>0</td>\n",
       "      <td>2017-01-20 12:09:18</td>\n",
       "      <td>1</td>\n",
       "      <td>1</td>\n",
       "      <td>0</td>\n",
       "    </tr>\n",
       "    <tr>\n",
       "      <th>544950</th>\n",
       "      <td>e879bd196b9b3e4db974b8716c6f896e</td>\n",
       "      <td>26</td>\n",
       "      <td>F</td>\n",
       "      <td>VA</td>\n",
       "      <td>0</td>\n",
       "      <td>2017-01-21 15:07:36</td>\n",
       "      <td>0</td>\n",
       "      <td>0</td>\n",
       "      <td>0</td>\n",
       "    </tr>\n",
       "    <tr>\n",
       "      <th>544951</th>\n",
       "      <td>e879bd196b9b3e4db974b8716c6f896e</td>\n",
       "      <td>26</td>\n",
       "      <td>F</td>\n",
       "      <td>VA</td>\n",
       "      <td>0</td>\n",
       "      <td>2017-01-22 00:33:48</td>\n",
       "      <td>0</td>\n",
       "      <td>0</td>\n",
       "      <td>0</td>\n",
       "    </tr>\n",
       "    <tr>\n",
       "      <th>544952</th>\n",
       "      <td>e879bd196b9b3e4db974b8716c6f896e</td>\n",
       "      <td>26</td>\n",
       "      <td>F</td>\n",
       "      <td>VA</td>\n",
       "      <td>0</td>\n",
       "      <td>2017-01-23 13:03:07</td>\n",
       "      <td>1</td>\n",
       "      <td>1</td>\n",
       "      <td>1</td>\n",
       "    </tr>\n",
       "  </tbody>\n",
       "</table>\n",
       "</div>"
      ],
      "text/plain": [
       "                                 user_id  age gender location  test  \\\n",
       "544921  e879bd196b9b3e4db974b8716c6f896e   26      F       VA     0   \n",
       "544922  e879bd196b9b3e4db974b8716c6f896e   26      F       VA     0   \n",
       "544923  e879bd196b9b3e4db974b8716c6f896e   26      F       VA     0   \n",
       "544924  e879bd196b9b3e4db974b8716c6f896e   26      F       VA     0   \n",
       "544925  e879bd196b9b3e4db974b8716c6f896e   26      F       VA     0   \n",
       "544926  e879bd196b9b3e4db974b8716c6f896e   26      F       VA     0   \n",
       "544927  e879bd196b9b3e4db974b8716c6f896e   26      F       VA     0   \n",
       "544928  e879bd196b9b3e4db974b8716c6f896e   26      F       VA     0   \n",
       "544929  e879bd196b9b3e4db974b8716c6f896e   26      F       VA     0   \n",
       "544930  e879bd196b9b3e4db974b8716c6f896e   26      F       VA     0   \n",
       "544931  e879bd196b9b3e4db974b8716c6f896e   26      F       VA     0   \n",
       "544932  e879bd196b9b3e4db974b8716c6f896e   26      F       VA     0   \n",
       "544933  e879bd196b9b3e4db974b8716c6f896e   26      F       VA     0   \n",
       "544934  e879bd196b9b3e4db974b8716c6f896e   26      F       VA     0   \n",
       "544935  e879bd196b9b3e4db974b8716c6f896e   26      F       VA     0   \n",
       "544936  e879bd196b9b3e4db974b8716c6f896e   26      F       VA     0   \n",
       "544937  e879bd196b9b3e4db974b8716c6f896e   26      F       VA     0   \n",
       "544938  e879bd196b9b3e4db974b8716c6f896e   26      F       VA     0   \n",
       "544939  e879bd196b9b3e4db974b8716c6f896e   26      F       VA     0   \n",
       "544940  e879bd196b9b3e4db974b8716c6f896e   26      F       VA     0   \n",
       "544941  e879bd196b9b3e4db974b8716c6f896e   26      F       VA     0   \n",
       "544942  e879bd196b9b3e4db974b8716c6f896e   26      F       VA     0   \n",
       "544943  e879bd196b9b3e4db974b8716c6f896e   26      F       VA     0   \n",
       "544944  e879bd196b9b3e4db974b8716c6f896e   26      F       VA     0   \n",
       "544945  e879bd196b9b3e4db974b8716c6f896e   26      F       VA     0   \n",
       "544946  e879bd196b9b3e4db974b8716c6f896e   26      F       VA     0   \n",
       "544947  e879bd196b9b3e4db974b8716c6f896e   26      F       VA     0   \n",
       "544948  e879bd196b9b3e4db974b8716c6f896e   26      F       VA     0   \n",
       "544949  e879bd196b9b3e4db974b8716c6f896e   26      F       VA     0   \n",
       "544950  e879bd196b9b3e4db974b8716c6f896e   26      F       VA     0   \n",
       "544951  e879bd196b9b3e4db974b8716c6f896e   26      F       VA     0   \n",
       "544952  e879bd196b9b3e4db974b8716c6f896e   26      F       VA     0   \n",
       "\n",
       "                 timestamp  bid  win  conversion  \n",
       "544921 2017-01-01 06:42:33    1    1           0  \n",
       "544922 2017-01-01 18:34:53    1    1           0  \n",
       "544923 2017-01-02 04:26:34    1    0           0  \n",
       "544924 2017-01-02 11:01:28    0    0           0  \n",
       "544925 2017-01-05 00:36:39    0    0           0  \n",
       "544926 2017-01-05 03:04:36    1    1           0  \n",
       "544927 2017-01-05 12:09:34    1    1           0  \n",
       "544928 2017-01-07 04:46:22    1    0           0  \n",
       "544929 2017-01-07 11:15:04    1    1           0  \n",
       "544930 2017-01-07 15:55:34    1    1           0  \n",
       "544931 2017-01-07 22:43:29    1    1           1  \n",
       "544932 2017-01-09 07:17:35    1    0           0  \n",
       "544933 2017-01-09 07:27:54    1    0           0  \n",
       "544934 2017-01-10 08:35:35    0    0           0  \n",
       "544935 2017-01-10 20:09:34    0    0           0  \n",
       "544936 2017-01-10 21:51:35    1    1           0  \n",
       "544937 2017-01-11 13:48:01    1    1           0  \n",
       "544938 2017-01-11 21:49:03    0    0           0  \n",
       "544939 2017-01-13 08:24:24    1    1           1  \n",
       "544940 2017-01-13 15:07:07    1    1           1  \n",
       "544941 2017-01-15 01:24:58    1    1           1  \n",
       "544942 2017-01-15 15:49:17    0    0           0  \n",
       "544943 2017-01-15 17:28:21    0    0           0  \n",
       "544944 2017-01-16 01:44:38    1    1           0  \n",
       "544945 2017-01-16 07:45:43    1    0           0  \n",
       "544946 2017-01-17 15:22:06    1    1           0  \n",
       "544947 2017-01-19 07:11:14    1    1           0  \n",
       "544948 2017-01-19 14:26:37    0    0           0  \n",
       "544949 2017-01-20 12:09:18    1    1           0  \n",
       "544950 2017-01-21 15:07:36    0    0           0  \n",
       "544951 2017-01-22 00:33:48    0    0           0  \n",
       "544952 2017-01-23 13:03:07    1    1           1  "
      ]
     },
     "execution_count": 23,
     "metadata": {},
     "output_type": "execute_result"
    }
   ],
   "source": [
    "df[df.user_id == 'e879bd196b9b3e4db974b8716c6f896e'].sort_values('timestamp')"
   ]
  },
  {
   "cell_type": "markdown",
   "metadata": {},
   "source": [
    "One last time, let's see the distribution of bid requests for males and females for the control and test groups. Again, almost equal number of bid requests were made for males and females in both of the control and test groups."
   ]
  },
  {
   "cell_type": "code",
   "execution_count": 24,
   "metadata": {},
   "outputs": [
    {
     "data": {
      "text/html": [
       "<div>\n",
       "<style scoped>\n",
       "    .dataframe tbody tr th:only-of-type {\n",
       "        vertical-align: middle;\n",
       "    }\n",
       "\n",
       "    .dataframe tbody tr th {\n",
       "        vertical-align: top;\n",
       "    }\n",
       "\n",
       "    .dataframe thead th {\n",
       "        text-align: right;\n",
       "    }\n",
       "</style>\n",
       "<table border=\"1\" class=\"dataframe\">\n",
       "  <thead>\n",
       "    <tr style=\"text-align: right;\">\n",
       "      <th></th>\n",
       "      <th></th>\n",
       "      <th>count</th>\n",
       "      <th>mean</th>\n",
       "    </tr>\n",
       "    <tr>\n",
       "      <th>test</th>\n",
       "      <th>gender</th>\n",
       "      <th></th>\n",
       "      <th></th>\n",
       "    </tr>\n",
       "  </thead>\n",
       "  <tbody>\n",
       "    <tr>\n",
       "      <th rowspan=\"2\" valign=\"top\">0</th>\n",
       "      <th>F</th>\n",
       "      <td>130773</td>\n",
       "      <td>0.498826</td>\n",
       "    </tr>\n",
       "    <tr>\n",
       "      <th>M</th>\n",
       "      <td>131334</td>\n",
       "      <td>0.500723</td>\n",
       "    </tr>\n",
       "    <tr>\n",
       "      <th rowspan=\"2\" valign=\"top\">1</th>\n",
       "      <th>F</th>\n",
       "      <td>169101</td>\n",
       "      <td>0.498507</td>\n",
       "    </tr>\n",
       "    <tr>\n",
       "      <th>M</th>\n",
       "      <td>168792</td>\n",
       "      <td>0.500901</td>\n",
       "    </tr>\n",
       "  </tbody>\n",
       "</table>\n",
       "</div>"
      ],
      "text/plain": [
       "              count      mean\n",
       "test gender                  \n",
       "0    F       130773  0.498826\n",
       "     M       131334  0.500723\n",
       "1    F       169101  0.498507\n",
       "     M       168792  0.500901"
      ]
     },
     "execution_count": 24,
     "metadata": {},
     "output_type": "execute_result"
    }
   ],
   "source": [
    "df.groupby(['test', 'gender'])['bid'].agg(['count', 'mean'])"
   ]
  },
  {
   "cell_type": "code",
   "execution_count": 25,
   "metadata": {},
   "outputs": [
    {
     "data": {
      "image/png": "[encoded data removed]",
      "text/plain": [
       "<Figure size 576x360 with 1 Axes>"
      ]
     },
     "metadata": {
      "needs_background": "light"
     },
     "output_type": "display_data"
    }
   ],
   "source": [
    "# explore the distribution of males and females in the control and test groups\n",
    "plt.figure(figsize=(8,5))\n",
    "sns.countplot(x='test', hue='gender', data=df, palette='RdBu')\n",
    "plt.xlabel('Control vs. Test Group')\n",
    "plt.xticks([0,1], ['Control', 'Test'])\n",
    "plt.show()"
   ]
  },
  {
   "cell_type": "markdown",
   "metadata": {},
   "source": [
    "------------------------"
   ]
  },
  {
   "cell_type": "markdown",
   "metadata": {},
   "source": [
    "### 3. A/B Testing and Hypothesis Statements"
   ]
  },
  {
   "cell_type": "markdown",
   "metadata": {},
   "source": [
    "`Baseline (Control Group (A))`: Creative in line with our client's previous campaigns <br>\n",
    "`Test Group (B)`: A new creative designed to increase conversions by more prominently displaying the offer to the user"
   ]
  },
  {
   "cell_type": "markdown",
   "metadata": {},
   "source": [
    "$H_{0}$: The change in ad design would result in no change in the conversion rate <br>\n",
    "$H_{1}$: The change in ad design would result in an improvement in the conversion rate"
   ]
  },
  {
   "cell_type": "markdown",
   "metadata": {},
   "source": [
    "----------------"
   ]
  },
  {
   "cell_type": "markdown",
   "metadata": {},
   "source": [
    "#### - Number of Bid Requests in the Control and Test Groups"
   ]
  },
  {
   "cell_type": "code",
   "execution_count": 26,
   "metadata": {},
   "outputs": [
    {
     "data": {
      "text/plain": [
       "1    337893\n",
       "0    262107\n",
       "Name: test, dtype: int64"
      ]
     },
     "execution_count": 26,
     "metadata": {},
     "output_type": "execute_result"
    }
   ],
   "source": [
    "# find out the number of bid requests in the test and control groups\n",
    "df['test'].value_counts()"
   ]
  },
  {
   "cell_type": "markdown",
   "metadata": {},
   "source": [
    "The baseline/control group (A) has 262,107 bid request while the test group (B) has 337,893 bid request."
   ]
  },
  {
   "cell_type": "markdown",
   "metadata": {},
   "source": [
    "#### - Number of Unique Users"
   ]
  },
  {
   "cell_type": "markdown",
   "metadata": {},
   "source": [
    "The merged dataset has not all the users from the users dataset. Since we performed an inner join between users and bid_request datasets, the final dataset of df involves only the users that exist in both the datasets which corresponds to 63,137 (it is the number of unique users in the bid_request dataset). I also want to see how the users were splitted between the control and test groups in the merged dataframe of df. The following ouput indicates that while the control group has a total of 27,608 unique users, the test group has a total of 35,529 unique users. "
   ]
  },
  {
   "cell_type": "code",
   "execution_count": 27,
   "metadata": {},
   "outputs": [
    {
     "data": {
      "text/plain": [
       "test\n",
       "0    27608\n",
       "1    35529\n",
       "Name: user_id, dtype: int64"
      ]
     },
     "execution_count": 27,
     "metadata": {},
     "output_type": "execute_result"
    }
   ],
   "source": [
    "df.groupby('test')['user_id'].nunique()"
   ]
  },
  {
   "cell_type": "markdown",
   "metadata": {},
   "source": [
    "#### - Average Number of Bid Requests in Each Group"
   ]
  },
  {
   "cell_type": "markdown",
   "metadata": {},
   "source": [
    "The average number of bid requests per user in each group were checked using the following codes. An average of `9.49 bid requests` were made for the users in the control group, while an average of `9.51 bid requests` were made for the users in the test group. "
   ]
  },
  {
   "cell_type": "code",
   "execution_count": 28,
   "metadata": {},
   "outputs": [
    {
     "name": "stdout",
     "output_type": "stream",
     "text": [
      "Average number of bid requests per user in the test group: 9.510343662923246\n",
      "Average number of bid requests per user in the control group: 9.493878585917125\n"
     ]
    }
   ],
   "source": [
    "print('Average number of bid requests per user in the test group:', 337893/35529)\n",
    "print('Average number of bid requests per user in the control group:', 262107/27608)"
   ]
  },
  {
   "cell_type": "markdown",
   "metadata": {},
   "source": [
    "#### - Number of Bids Won in Each Group"
   ]
  },
  {
   "cell_type": "code",
   "execution_count": 29,
   "metadata": {},
   "outputs": [
    {
     "data": {
      "text/plain": [
       "1    84595\n",
       "0    84251\n",
       "Name: win, dtype: int64"
      ]
     },
     "execution_count": 29,
     "metadata": {},
     "output_type": "execute_result"
    }
   ],
   "source": [
    "df[(df.test == 1)&(df.bid ==1)].win.value_counts()"
   ]
  },
  {
   "cell_type": "markdown",
   "metadata": {},
   "source": [
    "A total of `84,595` bids were won in the test group with 337,893 bid requests."
   ]
  },
  {
   "cell_type": "code",
   "execution_count": 30,
   "metadata": {},
   "outputs": [
    {
     "data": {
      "text/plain": [
       "1    65564\n",
       "0    65431\n",
       "Name: win, dtype: int64"
      ]
     },
     "execution_count": 30,
     "metadata": {},
     "output_type": "execute_result"
    }
   ],
   "source": [
    "df[(df.test == 0)&(df.bid ==1)].win.value_counts()"
   ]
  },
  {
   "cell_type": "markdown",
   "metadata": {},
   "source": [
    "A total of `65,564` bids were won in the control group with 262,107 bid requests."
   ]
  },
  {
   "cell_type": "markdown",
   "metadata": {},
   "source": [
    "#### - Conversion Rate"
   ]
  },
  {
   "cell_type": "code",
   "execution_count": 31,
   "metadata": {},
   "outputs": [
    {
     "data": {
      "text/plain": [
       "0    81203\n",
       "1     3392\n",
       "Name: conversion, dtype: int64"
      ]
     },
     "execution_count": 31,
     "metadata": {},
     "output_type": "execute_result"
    }
   ],
   "source": [
    "df[(df.test == 1)&(df.win == 1)].conversion.value_counts()"
   ]
  },
  {
   "cell_type": "markdown",
   "metadata": {},
   "source": [
    "Out of 84,595 bid wins in the test group, `3,392` times the users were converted. Please note that, some users were converted more than once. "
   ]
  },
  {
   "cell_type": "code",
   "execution_count": 32,
   "metadata": {},
   "outputs": [
    {
     "data": {
      "text/plain": [
       "0    62841\n",
       "1     2723\n",
       "Name: conversion, dtype: int64"
      ]
     },
     "execution_count": 32,
     "metadata": {},
     "output_type": "execute_result"
    }
   ],
   "source": [
    "df[(df.test == 0)&(df.win == 1)].conversion.value_counts()"
   ]
  },
  {
   "cell_type": "markdown",
   "metadata": {},
   "source": [
    "2,723 users were converted out of 65,564 users in the baseline/control group."
   ]
  },
  {
   "cell_type": "code",
   "execution_count": 33,
   "metadata": {},
   "outputs": [
    {
     "data": {
      "text/html": [
       "<div>\n",
       "<style scoped>\n",
       "    .dataframe tbody tr th:only-of-type {\n",
       "        vertical-align: middle;\n",
       "    }\n",
       "\n",
       "    .dataframe tbody tr th {\n",
       "        vertical-align: top;\n",
       "    }\n",
       "\n",
       "    .dataframe thead th {\n",
       "        text-align: right;\n",
       "    }\n",
       "</style>\n",
       "<table border=\"1\" class=\"dataframe\">\n",
       "  <thead>\n",
       "    <tr style=\"text-align: right;\">\n",
       "      <th></th>\n",
       "      <th>user_id</th>\n",
       "      <th>conversion</th>\n",
       "    </tr>\n",
       "  </thead>\n",
       "  <tbody>\n",
       "    <tr>\n",
       "      <th>57306</th>\n",
       "      <td>e879bd196b9b3e4db974b8716c6f896e</td>\n",
       "      <td>5</td>\n",
       "    </tr>\n",
       "    <tr>\n",
       "      <th>20985</th>\n",
       "      <td>54f07ff91a4441b2de263b955ab8a6a0</td>\n",
       "      <td>5</td>\n",
       "    </tr>\n",
       "    <tr>\n",
       "      <th>36764</th>\n",
       "      <td>9570efef719d705326f0ff817ef084e6</td>\n",
       "      <td>4</td>\n",
       "    </tr>\n",
       "    <tr>\n",
       "      <th>58191</th>\n",
       "      <td>ec151b6ecbb40275f4ac68bc99635554</td>\n",
       "      <td>3</td>\n",
       "    </tr>\n",
       "    <tr>\n",
       "      <th>3643</th>\n",
       "      <td>0e4c11f657de720a1b7aeb04e2ba810e</td>\n",
       "      <td>3</td>\n",
       "    </tr>\n",
       "  </tbody>\n",
       "</table>\n",
       "</div>"
      ],
      "text/plain": [
       "                                user_id  conversion\n",
       "57306  e879bd196b9b3e4db974b8716c6f896e           5\n",
       "20985  54f07ff91a4441b2de263b955ab8a6a0           5\n",
       "36764  9570efef719d705326f0ff817ef084e6           4\n",
       "58191  ec151b6ecbb40275f4ac68bc99635554           3\n",
       "3643   0e4c11f657de720a1b7aeb04e2ba810e           3"
      ]
     },
     "execution_count": 33,
     "metadata": {},
     "output_type": "execute_result"
    }
   ],
   "source": [
    "# check the users with the highest number of conversions\n",
    "df.groupby('user_id')['conversion'].sum().reset_index().sort_values(by='conversion', ascending=False).head()"
   ]
  },
  {
   "cell_type": "code",
   "execution_count": 34,
   "metadata": {},
   "outputs": [
    {
     "name": "stdout",
     "output_type": "stream",
     "text": [
      "Conversion rate for the baseline/control group is 0.04153193825880056\n"
     ]
    }
   ],
   "source": [
    "bcr = 2723/65564 #----> baseline conversion rate (control group)\n",
    "print('Conversion rate for the baseline/control group is', bcr)"
   ]
  },
  {
   "cell_type": "code",
   "execution_count": 35,
   "metadata": {},
   "outputs": [
    {
     "name": "stdout",
     "output_type": "stream",
     "text": [
      "Conversion rate for the test group is 0.04009693244281577\n"
     ]
    }
   ],
   "source": [
    "tcr = 3392/84595 #----> test group conversion rate (test group)\n",
    "print('Conversion rate for the test group is', tcr)"
   ]
  },
  {
   "cell_type": "code",
   "execution_count": 36,
   "metadata": {
    "scrolled": true
   },
   "outputs": [],
   "source": [
    "# difference between the conversion rates of the control and test groups\n",
    "d_hat = tcr - bcr\n",
    "\n",
    "# sample size for the control and test groups\n",
    "N_A = df[(df.test == 0)&(df.win == 1)].win.sum()\n",
    "N_B = df[(df.test == 1)&(df.win == 1)].win.sum()"
   ]
  },
  {
   "cell_type": "code",
   "execution_count": 37,
   "metadata": {},
   "outputs": [
    {
     "data": {
      "image/png": "[encoded data removed]",
      "text/plain": [
       "<Figure size 864x432 with 1 Axes>"
      ]
     },
     "metadata": {
      "needs_background": "light"
     },
     "output_type": "display_data"
    }
   ],
   "source": [
    "# compare the two groups --- Binomial distribution as the conversion rate is a discrete binary metric\n",
    "plot.abplot(N_A, N_B, bcr, d_hat, show_power=False)"
   ]
  },
  {
   "cell_type": "markdown",
   "metadata": {},
   "source": [
    "#### -Two-sample T-test"
   ]
  },
  {
   "cell_type": "markdown",
   "metadata": {},
   "source": [
    "Theoretically, t-test is only for continous data because discrete can never meet the normality assumption. However, t-test is quite robust given enough samples due to Central Limit Theory."
   ]
  },
  {
   "cell_type": "code",
   "execution_count": 38,
   "metadata": {},
   "outputs": [],
   "source": [
    "a = df[(df.test == 0)&(df.win == 1)].conversion\n",
    "b = df[(df.test == 1)&(df.win == 1)].conversion"
   ]
  },
  {
   "cell_type": "code",
   "execution_count": 39,
   "metadata": {},
   "outputs": [
    {
     "name": "stdout",
     "output_type": "stream",
     "text": [
      "1.395367229963658 0.1629071915461419\n"
     ]
    }
   ],
   "source": [
    "t, p_val = stats.ttest_ind(a, b, equal_var = True)\n",
    "print(t, p_val)"
   ]
  },
  {
   "cell_type": "markdown",
   "metadata": {},
   "source": [
    "The p value out of the t-test is greater than 0.05 (p>0.05). Therefore, we fail to reject the null hypothesis. It means that there no difference between the control and test groups and the change in the ad design makes no improvement in the conversion rate."
   ]
  },
  {
   "cell_type": "markdown",
   "metadata": {},
   "source": [
    "#### - Logistic Regression"
   ]
  },
  {
   "cell_type": "code",
   "execution_count": 40,
   "metadata": {},
   "outputs": [],
   "source": [
    "# exract the dataframe where win=1\n",
    "df_won = df[df.win==1]"
   ]
  },
  {
   "cell_type": "code",
   "execution_count": 41,
   "metadata": {},
   "outputs": [],
   "source": [
    "df_won = df_won.sample(n=1000) # logistic regression is biased toward larger sample size"
   ]
  },
  {
   "cell_type": "code",
   "execution_count": 42,
   "metadata": {},
   "outputs": [],
   "source": [
    "# extract the following features from the timestamp variable to be used in the model\n",
    "df_won['hour'] = df_won.timestamp.dt.hour\n",
    "df_won['day'] = df_won.timestamp.dt.day\n",
    "df_won['week'] = df_won.timestamp.dt.week\n",
    "df_won['dayofweek'] = df_won.timestamp.dt.dayofweek"
   ]
  },
  {
   "cell_type": "code",
   "execution_count": 43,
   "metadata": {},
   "outputs": [],
   "source": [
    "# recode the gender variable as M=1 and F=0\n",
    "df_won['gender'].replace({'M':1, 'F':0}, inplace=True)"
   ]
  },
  {
   "cell_type": "code",
   "execution_count": 44,
   "metadata": {},
   "outputs": [
    {
     "data": {
      "image/png": "[encoded data removed]",
      "text/plain": [
       "<Figure size 720x432 with 2 Axes>"
      ]
     },
     "metadata": {
      "needs_background": "light"
     },
     "output_type": "display_data"
    }
   ],
   "source": [
    "# plot a heatmap based on the correlation values between the features\n",
    "plt.figure(figsize=(10,6))\n",
    "sns.heatmap(df_won[['test', 'age', 'gender', 'conversion', 'hour', 'day', 'week', 'dayofweek']].corr(), \n",
    "            vmin=-1, vmax=1,square=True, annot=True, cmap='bwr', cbar=True, fmt=\".2f\")\n",
    "plt.show()"
   ]
  },
  {
   "cell_type": "code",
   "execution_count": 45,
   "metadata": {},
   "outputs": [],
   "source": [
    "# extract the features/independent variables and the target/dependent variable\n",
    "X = df_won[['test', 'age', 'gender', 'hour', 'day', 'week', 'dayofweek']]\n",
    "y = df_won['conversion']"
   ]
  },
  {
   "cell_type": "code",
   "execution_count": 46,
   "metadata": {},
   "outputs": [
    {
     "name": "stdout",
     "output_type": "stream",
     "text": [
      "Optimization terminated successfully.\n",
      "         Current function value: 0.148649\n",
      "         Iterations 8\n"
     ]
    },
    {
     "data": {
      "text/html": [
       "<table class=\"simpletable\">\n",
       "<caption>Logit Regression Results</caption>\n",
       "<tr>\n",
       "  <th>Dep. Variable:</th>      <td>conversion</td>    <th>  No. Observations:  </th>  <td>  1000</td> \n",
       "</tr>\n",
       "<tr>\n",
       "  <th>Model:</th>                 <td>Logit</td>      <th>  Df Residuals:      </th>  <td>   993</td> \n",
       "</tr>\n",
       "<tr>\n",
       "  <th>Method:</th>                 <td>MLE</td>       <th>  Df Model:          </th>  <td>     6</td> \n",
       "</tr>\n",
       "<tr>\n",
       "  <th>Date:</th>            <td>Thu, 24 Sep 2020</td> <th>  Pseudo R-squ.:     </th> <td>-0.02502</td>\n",
       "</tr>\n",
       "<tr>\n",
       "  <th>Time:</th>                <td>10:56:34</td>     <th>  Log-Likelihood:    </th> <td> -148.65</td>\n",
       "</tr>\n",
       "<tr>\n",
       "  <th>converged:</th>             <td>True</td>       <th>  LL-Null:           </th> <td> -145.02</td>\n",
       "</tr>\n",
       "<tr>\n",
       "  <th>Covariance Type:</th>     <td>nonrobust</td>    <th>  LLR p-value:       </th>  <td> 1.000</td> \n",
       "</tr>\n",
       "</table>\n",
       "<table class=\"simpletable\">\n",
       "<tr>\n",
       "      <td></td>         <th>coef</th>     <th>std err</th>      <th>z</th>      <th>P>|z|</th>  <th>[0.025</th>    <th>0.975]</th>  \n",
       "</tr>\n",
       "<tr>\n",
       "  <th>test</th>      <td>   -0.1279</td> <td>    0.341</td> <td>   -0.375</td> <td> 0.708</td> <td>   -0.797</td> <td>    0.541</td>\n",
       "</tr>\n",
       "<tr>\n",
       "  <th>age</th>       <td>   -0.1099</td> <td>    0.019</td> <td>   -5.843</td> <td> 0.000</td> <td>   -0.147</td> <td>   -0.073</td>\n",
       "</tr>\n",
       "<tr>\n",
       "  <th>gender</th>    <td>    0.1532</td> <td>    0.337</td> <td>    0.455</td> <td> 0.649</td> <td>   -0.507</td> <td>    0.814</td>\n",
       "</tr>\n",
       "<tr>\n",
       "  <th>hour</th>      <td>    0.0246</td> <td>    0.024</td> <td>    1.032</td> <td> 0.302</td> <td>   -0.022</td> <td>    0.071</td>\n",
       "</tr>\n",
       "<tr>\n",
       "  <th>day</th>       <td>   -0.0305</td> <td>    0.027</td> <td>   -1.126</td> <td> 0.260</td> <td>   -0.084</td> <td>    0.023</td>\n",
       "</tr>\n",
       "<tr>\n",
       "  <th>week</th>      <td>    0.0180</td> <td>    0.018</td> <td>    1.012</td> <td> 0.311</td> <td>   -0.017</td> <td>    0.053</td>\n",
       "</tr>\n",
       "<tr>\n",
       "  <th>dayofweek</th> <td>   -0.2162</td> <td>    0.093</td> <td>   -2.323</td> <td> 0.020</td> <td>   -0.399</td> <td>   -0.034</td>\n",
       "</tr>\n",
       "</table>"
      ],
      "text/plain": [
       "<class 'statsmodels.iolib.summary.Summary'>\n",
       "\"\"\"\n",
       "                           Logit Regression Results                           \n",
       "==============================================================================\n",
       "Dep. Variable:             conversion   No. Observations:                 1000\n",
       "Model:                          Logit   Df Residuals:                      993\n",
       "Method:                           MLE   Df Model:                            6\n",
       "Date:                Thu, 24 Sep 2020   Pseudo R-squ.:                -0.02502\n",
       "Time:                        10:56:34   Log-Likelihood:                -148.65\n",
       "converged:                       True   LL-Null:                       -145.02\n",
       "Covariance Type:            nonrobust   LLR p-value:                     1.000\n",
       "==============================================================================\n",
       "                 coef    std err          z      P>|z|      [0.025      0.975]\n",
       "------------------------------------------------------------------------------\n",
       "test          -0.1279      0.341     -0.375      0.708      -0.797       0.541\n",
       "age           -0.1099      0.019     -5.843      0.000      -0.147      -0.073\n",
       "gender         0.1532      0.337      0.455      0.649      -0.507       0.814\n",
       "hour           0.0246      0.024      1.032      0.302      -0.022       0.071\n",
       "day           -0.0305      0.027     -1.126      0.260      -0.084       0.023\n",
       "week           0.0180      0.018      1.012      0.311      -0.017       0.053\n",
       "dayofweek     -0.2162      0.093     -2.323      0.020      -0.399      -0.034\n",
       "==============================================================================\n",
       "\"\"\""
      ]
     },
     "execution_count": 46,
     "metadata": {},
     "output_type": "execute_result"
    }
   ],
   "source": [
    "# fit it to the data and print the summary of the model\n",
    "sm.Logit(y, X).fit().summary()"
   ]
  },
  {
   "cell_type": "markdown",
   "metadata": {},
   "source": [
    "### 4. Retargeting"
   ]
  },
  {
   "cell_type": "code",
   "execution_count": 59,
   "metadata": {},
   "outputs": [
    {
     "data": {
      "text/plain": [
       "0.08880688027622471"
      ]
     },
     "execution_count": 59,
     "metadata": {},
     "output_type": "execute_result"
    }
   ],
   "source": [
    "(df.groupby('user_id').conversion.sum() > 0).mean()"
   ]
  },
  {
   "cell_type": "markdown",
   "metadata": {},
   "source": [
    "The percentage of users who were converted at least once or more is about 9%."
   ]
  },
  {
   "cell_type": "code",
   "execution_count": 60,
   "metadata": {},
   "outputs": [
    {
     "data": {
      "text/plain": [
       "0.08257535223827359"
      ]
     },
     "execution_count": 60,
     "metadata": {},
     "output_type": "execute_result"
    }
   ],
   "source": [
    "(df[(df.conversion == 1)].groupby('user_id').conversion.count() > 1).mean()"
   ]
  },
  {
   "cell_type": "markdown",
   "metadata": {},
   "source": [
    "The percantage of users who were converted more than 1 is about 8% of the users converted at least once."
   ]
  },
  {
   "cell_type": "code",
   "execution_count": 49,
   "metadata": {},
   "outputs": [
    {
     "data": {
      "text/plain": [
       "0.007333259419991447"
      ]
     },
     "execution_count": 49,
     "metadata": {},
     "output_type": "execute_result"
    }
   ],
   "source": [
    "0.08880688027622471 * 0.08257535223827359"
   ]
  },
  {
   "cell_type": "markdown",
   "metadata": {},
   "source": [
    "### 5. Conclusion"
   ]
  },
  {
   "cell_type": "markdown",
   "metadata": {},
   "source": [
    "Overall, the change in ad design (the new creative designed to increase conversions by more prominently displaying the offer to the user) would make no difference in the conversion rates. Retargeting has also a very small improvement on the performance of this campaign. On average, 9% of the bid requests tend to be converted. Retargeting would only make a 0.7% difference on the conversion rates. "
   ]
  },
  {
   "cell_type": "markdown",
   "metadata": {},
   "source": [
    "<a href=\"#Table-of-Contents\">Back to Top</a> <br>"
   ]
  }
 ],
 "metadata": {
  "kernelspec": {
   "display_name": "Python 3",
   "language": "python",
   "name": "python3"
  },
  "language_info": {
   "codemirror_mode": {
    "name": "ipython",
    "version": 3
   },
   "file_extension": ".py",
   "mimetype": "text/x-python",
   "name": "python",
   "nbconvert_exporter": "python",
   "pygments_lexer": "ipython3",
   "version": "3.8.5"
  }
 },
 "nbformat": 4,
 "nbformat_minor": 4
}
